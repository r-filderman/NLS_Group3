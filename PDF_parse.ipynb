{
 "cells": [
  {
   "cell_type": "markdown",
   "id": "745e8001-94e2-440b-9255-522e9835ee4b",
   "metadata": {},
   "source": [
    "## Reading PDF Text"
   ]
  },
  {
   "cell_type": "code",
   "execution_count": 1,
   "id": "5e240de4-1e8a-46a2-90a2-212c9d53e349",
   "metadata": {},
   "outputs": [],
   "source": [
    "import pandas as pd\n",
    "import numpy as np\n",
    "import os\n",
    "import PyPDF2 as PDF\n",
    "import re"
   ]
  },
  {
   "cell_type": "markdown",
   "id": "4489da64-8c40-4bdd-9987-fca53ef224e8",
   "metadata": {},
   "source": [
    "### Testing on one document"
   ]
  },
  {
   "cell_type": "code",
   "execution_count": 2,
   "id": "5dbbee1f-197e-400c-9acd-c829fb161a94",
   "metadata": {},
   "outputs": [],
   "source": [
    "# creating a pdf file object\n",
    "pdfFileObj = open('Preparedness Plans/3002.pdf', 'rb')\n",
    "\n",
    "# creating a pdf reader object\n",
    "pdfReader = PDF.PdfFileReader(pdfFileObj)\n",
    "\n",
    "# get number of pages to loop through and read\n",
    "n_pages = pdfReader.getNumPages()\n",
    "\n",
    "# creating list to store document text to then join strings together\n",
    "doc_text = []\n",
    "\n",
    "# for loop to loop through pages and store information\n",
    "for page in range(0, n_pages):\n",
    "    # creating a page object\n",
    "    pageObj = pdfReader.getPage(page)\n",
    "    \n",
    "    # extracting text from page\n",
    "    page_text = pageObj.extractText()\n",
    "    \n",
    "    doc_text.append(page_text)\n",
    "    \n",
    "    # closing the pdf file object\n",
    "    #pdfFileObj.close()\n",
    "    \n",
    "#\" \".join(doc_text)"
   ]
  },
  {
   "cell_type": "markdown",
   "id": "98bbd8c9-02fc-4e0d-8b24-929bb11d1bef",
   "metadata": {},
   "source": [
    "### Testing on folder/mult"
   ]
  },
  {
   "cell_type": "code",
   "execution_count": 3,
   "id": "e4177a8c-b12c-415f-83b9-e1440b8ff815",
   "metadata": {},
   "outputs": [
    {
     "name": "stdout",
     "output_type": "stream",
     "text": [
      "reading 3002.pdf\n",
      "3002.pdf complete\n",
      "--------------------------------------\n",
      "reading ARCEMP-1Sept2021-Final_ ARKANSAS.pdf\n",
      "ARCEMP-1Sept2021-Final_ ARKANSAS.pdf complete\n",
      "--------------------------------------\n",
      "reading covid-19-vaccination-plan-maine-interim-draft.pdf\n",
      "covid-19-vaccination-plan-maine-interim-draft.pdf complete\n",
      "--------------------------------------\n",
      "reading covid-19-vaccination-plan-massachusetts-10-19-2020.pdf\n",
      "covid-19-vaccination-plan-massachusetts-10-19-2020.pdf complete\n",
      "--------------------------------------\n",
      "reading covid-icf-iid-response-plan_TX.pdf\n",
      "covid-icf-iid-response-plan_TX.pdf complete\n",
      "--------------------------------------\n",
      "reading covid19-response-plan-developmental-centers.pdf\n",
      "covid19-response-plan-developmental-centers.pdf complete\n",
      "--------------------------------------\n",
      "reading covid19-vac-plan.pdf\n",
      "covid19-vac-plan.pdf complete\n",
      "--------------------------------------\n",
      "reading COVID19-VT-Jurisdictional-Vaccination-Interim-Plan.pdf\n",
      "COVID19-VT-Jurisdictional-Vaccination-Interim-Plan.pdf complete\n",
      "--------------------------------------\n",
      "reading DRAFT Vermont Covid-19 Telecommunications Recovery Plan - rev 15 - 20201116.pdf\n",
      "DRAFT Vermont Covid-19 Telecommunications Recovery Plan - rev 15 - 20201116.pdf complete\n",
      "--------------------------------------\n",
      "reading Guidance+for+Emergency+Preparedness+in+Long-Term+Care+03.20.20_Ohio.pdf\n",
      "Guidance+for+Emergency+Preparedness+in+Long-Term+Care+03.20.20_Ohio.pdf complete\n",
      "--------------------------------------\n",
      "reading IDOC-COVID-19-Preparedness-Plan-3-1-2021.pdf\n",
      "IDOC-COVID-19-Preparedness-Plan-3-1-2021.pdf complete\n",
      "--------------------------------------\n",
      "reading IL COVID-19 Vaccination Plan V8.1 6.24.21.pdf\n",
      "IL COVID-19 Vaccination Plan V8.1 6.24.21.pdf complete\n",
      "--------------------------------------\n",
      "reading illinois-pandemic-influenza-plan-version-51march-2020.pdf\n",
      "illinois-pandemic-influenza-plan-version-51march-2020.pdf complete\n",
      "--------------------------------------\n",
      "reading Indiana-COVID-19-Vaccination-Plan_-Interim-Draft.pdf\n",
      "Indiana-COVID-19-Vaccination-Plan_-Interim-Draft.pdf complete\n",
      "--------------------------------------\n",
      "reading MDE_COVID_19_Preparedness_Plan_695945_7.pdf\n",
      "MDE_COVID_19_Preparedness_Plan_695945_7.pdf complete\n",
      "--------------------------------------\n",
      "reading MSHDA_COVID_Preparedness__Response_Plan_696372_7.pdf\n",
      "MSHDA_COVID_Preparedness__Response_Plan_696372_7.pdf complete\n",
      "--------------------------------------\n",
      "reading nh-response-covid-19.pdf\n",
      "nh-response-covid-19.pdf complete\n",
      "--------------------------------------\n",
      "reading oklahoma-hospital-surge-planning-toolkit-for-covid-19.pdf\n",
      "oklahoma-hospital-surge-planning-toolkit-for-covid-19.pdf complete\n",
      "--------------------------------------\n",
      "reading Pacific-College’s-COVID-19-Preparedness-and-Response-Plan-NewYork.pdf\n",
      "Pacific-College’s-COVID-19-Preparedness-and-Response-Plan-NewYork.pdf complete\n",
      "--------------------------------------\n",
      "reading prepar_covid19.pdf\n",
      "prepar_covid19.pdf complete\n",
      "--------------------------------------\n",
      "reading Press Release Response to Covid-19_Oklahoma .pdf\n",
      "Press Release Response to Covid-19_Oklahoma .pdf complete\n",
      "--------------------------------------\n",
      "reading state_of_oklahoma_covid-19_vaccination_plan.pdf\n",
      "state_of_oklahoma_covid-19_vaccination_plan.pdf complete\n",
      "--------------------------------------\n",
      "reading wayne_state_university_covid_19_preparedness_and_response_plan.pdf\n",
      "wayne_state_university_covid_19_preparedness_and_response_plan.pdf complete\n",
      "--------------------------------------\n"
     ]
    }
   ],
   "source": [
    "fullDF = pd.DataFrame(columns=['Title','Text'])\n",
    "\n",
    "for file in os.listdir('Preparedness Plans'):\n",
    "    print(\"reading \" + file)\n",
    "    \n",
    "    # creating a pdf file object\n",
    "    pdfFileObj = open('Preparedness Plans/' + file, 'rb')\n",
    "\n",
    "    # creating a pdf reader object\n",
    "    pdfReader = PDF.PdfFileReader(pdfFileObj)\n",
    "\n",
    "    # get number of pages to loop through and read\n",
    "    n_pages = pdfReader.getNumPages()\n",
    "\n",
    "    # creating list to store document text to then join strings together\n",
    "    doc_text = []\n",
    "\n",
    "    # for loop to loop through pages and store information\n",
    "    for page in range(0, n_pages):\n",
    "        # creating a page object\n",
    "        pageObj = pdfReader.getPage(page)\n",
    "\n",
    "        # extracting text from page\n",
    "        page_text = pageObj.extractText()\n",
    "\n",
    "        doc_text.append(page_text)\n",
    "\n",
    "        # closing the pdf file object\n",
    "        #pdfFileObj.close()\n",
    "\n",
    "    doc_text = \" \".join(doc_text)\n",
    "    \n",
    "    docDF = pd.DataFrame({'Title': file, 'Text': doc_text}, index=[0])\n",
    "    \n",
    "    fullDF = fullDF.append(docDF, ignore_index = True)\n",
    "    \n",
    "    print(file + \" complete\")\n",
    "    print(\"--------------------------------------\")"
   ]
  },
  {
   "cell_type": "code",
   "execution_count": 4,
   "id": "a882a0dd-204a-4989-9120-c9e17a71758d",
   "metadata": {},
   "outputs": [],
   "source": [
    "fullDF.to_csv('Full-Text.csv')"
   ]
  },
  {
   "cell_type": "code",
   "execution_count": null,
   "id": "65420451-99a1-48e6-84f4-a09863289b45",
   "metadata": {},
   "outputs": [],
   "source": []
  }
 ],
 "metadata": {
  "kernelspec": {
   "display_name": "Python 3",
   "language": "python",
   "name": "python3"
  },
  "language_info": {
   "codemirror_mode": {
    "name": "ipython",
    "version": 3
   },
   "file_extension": ".py",
   "mimetype": "text/x-python",
   "name": "python",
   "nbconvert_exporter": "python",
   "pygments_lexer": "ipython3",
   "version": "3.8.8"
  }
 },
 "nbformat": 4,
 "nbformat_minor": 5
}
